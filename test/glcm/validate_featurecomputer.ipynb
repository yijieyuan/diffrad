{
 "cells": [
  {
   "cell_type": "code",
   "execution_count": 5,
   "id": "23613e35",
   "metadata": {},
   "outputs": [],
   "source": [
    "import os\n",
    "import sys\n",
    "import torch\n",
    "import numpy as np\n",
    "import SimpleITK as sitk\n",
    "\n",
    "from PIL import Image\n",
    "\n",
    "# Add the parent directory to sys.path\n",
    "sys.path.append(os.path.abspath(os.path.join(os.getcwd(), '..', '..')))\n",
    "\n",
    "from pyradiomics_api import pyradiomics_glcm\n",
    "from diffglcm import DiffGLCM"
   ]
  },
  {
   "cell_type": "code",
   "execution_count": null,
   "id": "ddd29dec",
   "metadata": {},
   "outputs": [
    {
     "name": "stderr",
     "output_type": "stream",
     "text": [
      "GLCM is symmetrical, therefore Sum Average = 2 * Joint Average, only 1 needs to be calculated\n",
      "GLCM is symmetrical, therefore Sum Average = 2 * Joint Average, only 1 needs to be calculated\n"
     ]
    },
    {
     "name": "stdout",
     "output_type": "stream",
     "text": [
      "Feature Name                   | DiffGLCM                       | Pyradiomics GLCM              \n",
      "---------------------------------------------------------------------------------------------\n",
      "Autocorrelation                | 123.14684295654297             | 123.1468443627451             \n",
      "ClusterProminence              | 19325.39453125                 | 19325.394929071015            \n",
      "ClusterShade                   | -266.71240234375               | -266.7126489747228            \n",
      "ClusterTendency                | 103.61572265625                | 103.61571146553271            \n",
      "Contrast                       | 2.0674479007720947             | 2.0674479166666666            \n",
      "Correlation                    | 0.9608777761459351             | 0.9608746004802938            \n",
      "DifferenceAverage              | 0.5344209671020508             | 0.5344209558823529            \n",
      "DifferenceEntropy              | 1.334649920463562              | 1.3346498280316017            \n",
      "DifferenceVariance             | 1.7818422317504883             | 1.7818421585804587            \n",
      "Id                             | 0.8441816568374634             | 0.8441816739139808            \n",
      "Idm                            | 0.8309525847434998             | 0.830952683161042             \n",
      "Idmn                           | 0.9931196570396423             | 0.9931196442710483            \n",
      "Idn                            | 0.9725295305252075             | 0.9725295446484111            \n",
      "Imc1                           | -0.6119071245193481            | -0.6103998726305091           \n",
      "Imc2                           | 0.9938778281211853             | 0.993779283418901             \n",
      "InverseVariance                | 0.1746942698955536             | 0.17469425787402243           \n",
      "JointAverage                   | 9.8821382522583                | 9.887354473039217             \n",
      "JointEnergy                    | 0.09137773513793945            | 0.09136858889159218           \n",
      "JointEntropy                   | 4.988837242126465              | 4.99682256860284              \n",
      "MCC                            | 0.9789702892303467             | 0.965154452732505             \n",
      "MaximumProbability             | 0.26732537150382996            | 0.26732536764705883           \n",
      "SumAverage                     | 19.774707794189453             | 19.77470894607843             \n",
      "SumEntropy                     | 4.215167045593262              | 4.215166711605905             \n",
      "SumSquares                     | 26.38013458251953              | 26.420789845549848            \n"
     ]
    }
   ],
   "source": [
    "device = torch.device(\"cuda\" if torch.cuda.is_available() else \"cpu\")\n",
    "\n",
    "# Load Cameraman.png and convert to numpy array with values in range 0-1\n",
    "img = Image.open(r'../../pyradiomics/Cameraman.png').convert('L')  # Convert to grayscale\n",
    "img = img.resize((256, 256))\n",
    "image_array = np.array(img, dtype=np.float32) / 255.0  # Normalize to 0-1 range\n",
    "image_tensor = torch.from_numpy(image_array).to(device).unsqueeze(0).unsqueeze(0)  # [1, 1, H, W]\n",
    "image_tensor = image_tensor\n",
    "\n",
    "# == Compute GLCM features Using Pyradiomics ==\n",
    "pyradiomics_glcm, pyradiomics_glcm_features = pyradiomics_glcm(image_array, low_bound=0, high_bound=1, bin_count=16, symmetricalGLCM=True, angle=(1,0))\n",
    "# print(pyradiomics_glcm_features.shape)  \n",
    "\n",
    "# == Compute GLCM features Using DiffGLCM ==\n",
    "\n",
    "# Initialize DiffGLCM\n",
    "diffglcm = DiffGLCM(\n",
    "    image_size=image_array.shape[0],  # Assuming square image\n",
    "    low_bound=0,\n",
    "    high_bound=1,\n",
    "    Ng=16,\n",
    "    alpha=10,\n",
    "    differentiable=True\n",
    ").to(device)\n",
    "\n",
    "# Compute GLCM and features\n",
    "with torch.no_grad():  # Disable gradient computation for inference\n",
    "    diffrad_glcm, diffrad_features = diffglcm(image_tensor, offset_r=1, offset_c=0)\n",
    "\n",
    "# Move features back to CPU for printing\n",
    "diffrad_features = diffrad_features.cpu()\n",
    "\n",
    "# == Compare Pyradiomics and DiffGLCM features ==\n",
    "feature_names = [\n",
    "    'Autocorrelation', 'ClusterProminence', 'ClusterShade', 'ClusterTendency',\n",
    "    'Contrast', 'Correlation', 'DifferenceAverage', 'DifferenceEntropy',\n",
    "    'DifferenceVariance', 'Id', 'Idm', 'Idmn', 'Idn', 'Imc1', 'Imc2',\n",
    "    'InverseVariance', 'JointAverage', 'JointEnergy', 'JointEntropy',\n",
    "    'MCC', 'MaximumProbability', 'SumAverage', 'SumEntropy', 'SumSquares'\n",
    "]\n",
    "\n",
    "print(f\"{'Feature Name':<30} | {'DiffGLCM':<30} | {'Pyradiomics GLCM':<30}\")\n",
    "print(\"-\" * 93)  # Print a separator line\n",
    "for i, name in enumerate(feature_names):\n",
    "    diff_val = diffrad_features[0, i, 0].item()\n",
    "    pyrad_val = pyradiomics_glcm_features[name][0]\n",
    "    print(f\"{name:<30} | {diff_val:<30} | {pyrad_val:<30}\")\n",
    "\n"
   ]
  }
 ],
 "metadata": {
  "kernelspec": {
   "display_name": "yyuan57",
   "language": "python",
   "name": "python3"
  },
  "language_info": {
   "codemirror_mode": {
    "name": "ipython",
    "version": 3
   },
   "file_extension": ".py",
   "mimetype": "text/x-python",
   "name": "python",
   "nbconvert_exporter": "python",
   "pygments_lexer": "ipython3",
   "version": "3.7.3"
  }
 },
 "nbformat": 4,
 "nbformat_minor": 5
}
