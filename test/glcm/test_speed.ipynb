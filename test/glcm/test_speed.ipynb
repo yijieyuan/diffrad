{
 "cells": [
  {
   "cell_type": "code",
   "execution_count": 25,
   "id": "a7365044",
   "metadata": {},
   "outputs": [],
   "source": [
    "import os\n",
    "import sys\n",
    "import torch\n",
    "import numpy as np\n",
    "import SimpleITK as sitk\n",
    "\n",
    "from PIL import Image\n",
    "\n",
    "# Add the parent directory to sys.path\n",
    "sys.path.append(os.path.abspath(os.path.join(os.getcwd(), '..', '..')))\n",
    "\n",
    "from pyradiomics_api import pyradiomics_glcm\n",
    "from diffglcm import DiffGLCM\n",
    "from kdeglcm import compute_glcm_kde\n",
    "from matplotlib import pyplot as plt\n",
    "from pyradiomics_api import pyradiomics_glcm"
   ]
  },
  {
   "cell_type": "code",
   "execution_count": 26,
   "id": "26db5acd",
   "metadata": {},
   "outputs": [
    {
     "name": "stdout",
     "output_type": "stream",
     "text": [
      "(64, 64)\n"
     ]
    },
    {
     "data": {
      "image/png": "[encoded data removed]",
      "text/plain": [
       "<Figure size 640x480 with 1 Axes>"
      ]
     },
     "metadata": {},
     "output_type": "display_data"
    }
   ],
   "source": [
    "device = torch.device(\"cuda\" if torch.cuda.is_available() else \"cpu\")\n",
    "\n",
    "# Load Cameraman.png and convert to numpy array with values in range 0-1\n",
    "img = Image.open(r'../../Cameraman.png').convert('L')  # Convert to grayscale\n",
    "x = np.array(img) / 255.0\n",
    "x = x[::4, ::4]\n",
    "\n",
    "# Display the image\n",
    "plt.imshow(x, cmap='gray')\n",
    "plt.axis('off')\n",
    "print(x.shape)\n",
    "\n",
    "x = np.repeat(x[np.newaxis, :, :], 100, axis=0)"
   ]
  },
  {
   "cell_type": "code",
   "execution_count": 27,
   "id": "8373383f",
   "metadata": {},
   "outputs": [
    {
     "name": "stdout",
     "output_type": "stream",
     "text": [
      "KDE GLCM time:  0.24322271347045898\n",
      "DiffGLCM time:  0.04404044151306152\n",
      "PyRadiomics GLCM time:  1.9931252002716064\n"
     ]
    }
   ],
   "source": [
    "import time\n",
    "from tqdm import tqdm\n",
    "\n",
    "start_time = time.time()\n",
    "_ = compute_glcm_kde(x, binNum=64, delta_r=1, delta_c=1)\n",
    "print(\"KDE GLCM time: \", time.time() - start_time)\n",
    "\n",
    "diffglcm = DiffGLCM(\n",
    "    image_size=x.shape[-1],  # Assuming square image\n",
    "    low_bound=0,\n",
    "    high_bound=1,\n",
    "    Ng=64,\n",
    "    alpha=10,\n",
    "    differentiable=True\n",
    ").to(device)\n",
    "\n",
    "image_tensor = torch.from_numpy(x).to(device).unsqueeze(1)\n",
    "start_time = time.time()\n",
    "_ = diffglcm(image_tensor, offset_r=1, offset_c=1)\n",
    "print(\"DiffGLCM time: \", time.time() - start_time)\n",
    "\n",
    "# pyradiomics\n",
    "start_time = time.time()\n",
    "for i in range(x.shape[0]):\n",
    "    image_array = x[i, :, :].astype(np.float32)\n",
    "    low_bound = 0\n",
    "    high_bound = 1\n",
    "    bin_count = 64\n",
    "    symmetricalGLCM = False\n",
    "    angle = (1, 1)\n",
    "    _ = pyradiomics_glcm(image_array, low_bound, high_bound, bin_count, symmetricalGLCM, angle)\n",
    "print(\"PyRadiomics GLCM time: \", time.time() - start_time)\n"
   ]
  },
  {
   "cell_type": "code",
   "execution_count": null,
   "id": "63c48ae8",
   "metadata": {},
   "outputs": [],
   "source": []
  }
 ],
 "metadata": {
  "kernelspec": {
   "display_name": "yyuan57",
   "language": "python",
   "name": "python3"
  },
  "language_info": {
   "codemirror_mode": {
    "name": "ipython",
    "version": 3
   },
   "file_extension": ".py",
   "mimetype": "text/x-python",
   "name": "python",
   "nbconvert_exporter": "python",
   "pygments_lexer": "ipython3",
   "version": "3.7.3"
  }
 },
 "nbformat": 4,
 "nbformat_minor": 5
}
